{
 "cells": [
  {
   "cell_type": "code",
   "execution_count": null,
   "outputs": [],
   "source": [
    "import numpy as np\n",
    "\n",
    "# 1\n",
    "notes = np.array([7, 9, 11, 12, 13, 15])\n",
    "\n",
    "avg = np.mean(notes)\n",
    "print(f'MOYENNE : {avg}')\n",
    "\n",
    "v = np.sum((notes - avg)**2) / len(notes)\n",
    "\n",
    "print(f'1) VARIANCE : {v}')\n",
    "print('--------------------------------------------------------------------------------------')\n",
    "\n",
    "# 2\n",
    "note_students = np.array([(7, 5), (9, 4), (11, 21), (12, 35), (13, 32), (15, 3)], dtype=[\n",
    "     ('note', np.dtype('f8')),\n",
    "     ('effectif', np.dtype('i8'))\n",
    "])\n",
    "\n",
    "avg_students = np.sum(note_students['note'] * note_students['effectif']) / note_students['effectif'].sum()\n",
    "print(f'2.1) MOYENNE DES NOTES DE LA CLASSE : {avg_students}')\n",
    "\n",
    "\n",
    "# 3\n",
    "# // <=> division entière en Python\n",
    "def my_median(numbers):\n",
    "    i = len(numbers)//2\n",
    "\n",
    "    if len(numbers) % 2 == 1:\n",
    "        return numbers[i]\n",
    "\n",
    "    return (numbers[i] + numbers[i + 1]) / 2.\n",
    "\n",
    "\n",
    "effectifs = list(note_students['effectif'])\n",
    "numbers = np.array([note_students['note'][i] for i, k in enumerate(note_students['effectif']) for n in range(k)])\n",
    "# numbers_2 = np.repeat(note_students['note'], effectifs) identique à numbers mais en plus élégant\n",
    "print(f'NUMBERS : \\n {numbers}')\n",
    "# print(f'REPEAT : {numbers_2}')\n",
    "print(f'2.2) MÉDIANE : {my_median(numbers)}')\n",
    "\n",
    "# 4 variance\n",
    "x = np.mean(numbers)\n",
    "var = np.sum((numbers - x)**2) / len(numbers)\n",
    "print(f'2.3) VARIANCE : {var}')\n",
    "\n",
    "# Ecart type\n",
    "\n",
    "std = np.std(numbers)\n",
    "print(f'2.4) ÉCART TYPE : {std}')\n",
    "print(np.sqrt(var))\n",
    "\n",
    "# on ajoute + 1\n",
    "numbers = numbers + 1\n",
    "\n",
    "# Cela ne change pas la manière dont les valeurs sont dispersées les unes par rapport aux autres\n",
    "x = np.mean(numbers)\n",
    "v = np.sum((numbers - x)**2) / len(numbers)\n",
    "print(v)\n",
    "\n",
    "# Ecart type\n",
    "\n",
    "std = np.std(numbers)\n",
    "print(std)\n",
    "print(np.sqrt(v))\n",
    "\n",
    "print('--------------------------------------------------------------------------------------')"
   ],
   "metadata": {
    "collapsed": false,
    "pycharm": {
     "name": "#%%\n"
    }
   }
  },
  {
   "cell_type": "code",
   "execution_count": 1,
   "metadata": {
    "collapsed": true
   },
   "outputs": [
    {
     "data": {
      "text/plain": "count    100.000000\nmean      12.830000\nstd        1.550855\nmin        8.000000\n25%       12.000000\n50%       13.000000\n75%       14.000000\nmax       16.000000\ndtype: float64"
     },
     "execution_count": 1,
     "metadata": {},
     "output_type": "execute_result"
    }
   ],
   "source": [
    "# APPROCHE AVANCÉE\n",
    "\n",
    "import numpy as np\n",
    "import pandas as pd\n",
    "\n",
    "Notes = [7, 9, 11, 12, 13, 15]\n",
    "Effectif = [5, 4, 21, 35, 32, 3]\n",
    "\n",
    "total_notes = np.repeat(Notes, Effectif)"
   ]
  },
  {
   "cell_type": "code",
   "execution_count": null,
   "outputs": [],
   "source": [
    "pd.Series(total_notes).describe()"
   ],
   "metadata": {
    "collapsed": false,
    "pycharm": {
     "name": "#%%\n"
    }
   }
  },
  {
   "cell_type": "code",
   "execution_count": null,
   "outputs": [],
   "source": [
    "total_notes.var()"
   ],
   "metadata": {
    "collapsed": false,
    "pycharm": {
     "name": "#%%\n"
    }
   }
  },
  {
   "cell_type": "code",
   "execution_count": null,
   "outputs": [],
   "source": [
    "#Deuxieme Series\n",
    "\n",
    "Notes = np.array([7, 9, 11, 12, 13, 15])\n",
    "Notes+=1\n",
    "\n",
    "Effectif = [5, 4, 21, 35, 32, 3]\n",
    "\n",
    "total_notes = np.repeat(Notes, Effectif)\n",
    "pd.Series(total_notes).describe()"
   ],
   "metadata": {
    "collapsed": false,
    "pycharm": {
     "name": "#%%\n"
    }
   }
  }
 ],
 "metadata": {
  "kernelspec": {
   "display_name": "Python 3",
   "language": "python",
   "name": "python3"
  },
  "language_info": {
   "codemirror_mode": {
    "name": "ipython",
    "version": 2
   },
   "file_extension": ".py",
   "mimetype": "text/x-python",
   "name": "python",
   "nbconvert_exporter": "python",
   "pygments_lexer": "ipython2",
   "version": "2.7.6"
  }
 },
 "nbformat": 4,
 "nbformat_minor": 0
}