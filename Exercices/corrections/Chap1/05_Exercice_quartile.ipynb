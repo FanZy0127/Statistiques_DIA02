{
 "cells": [
  {
   "cell_type": "code",
   "execution_count": 1,
   "id": "01628a64",
   "metadata": {},
   "outputs": [],
   "source": [
    "import pandas as pd\n",
    "import numpy as np"
   ]
  },
  {
   "cell_type": "code",
   "execution_count": 9,
   "id": "b8714e46",
   "metadata": {},
   "outputs": [],
   "source": [
    "# 10; 25; 30; 40; 41; 42; 50; 55; 70; 101; 110; 111\n",
    "data = [10, 25, 30, 40, 41, 42, 50, 55, 70, 101, 110, 111]\n",
    "data_serie = pd.Series(data)"
   ]
  },
  {
   "cell_type": "code",
   "execution_count": 10,
   "id": "7db133eb",
   "metadata": {
    "scrolled": true
   },
   "outputs": [
    {
     "name": "stdout",
     "output_type": "stream",
     "text": [
      "count     12.000000\n",
      "mean      57.083333\n",
      "std       33.864592\n",
      "min       10.000000\n",
      "25%       37.500000\n",
      "50%       46.000000\n",
      "75%       77.750000\n",
      "max      111.000000\n",
      "dtype: float64\n",
      "12.0\n"
     ]
    }
   ],
   "source": [
    "describe = data_serie.describe()\n",
    "print(describe)\n",
    "count = describe['count']\n",
    "print(count)"
   ]
  },
  {
   "cell_type": "code",
   "execution_count": 11,
   "id": "8f7909da",
   "metadata": {},
   "outputs": [
    {
     "name": "stdout",
     "output_type": "stream",
     "text": [
      "Q1 : 37.5\n",
      "Q2 : 46.0\n",
      "Q3 : 77.75\n",
      "Amplitude, ou écart interquartile : 40.25\n"
     ]
    }
   ],
   "source": [
    "count = describe['count']\n",
    "\n",
    "Q1 = describe['25%']\n",
    "print(f'Q1 : {Q1}')\n",
    "\n",
    "Q2 = describe['50%']\n",
    "print(f'Q2 : {Q2}')\n",
    "\n",
    "Q3 = describe['75%']\n",
    "print(f'Q3 : {Q3}')\n",
    "\n",
    "# Amplitude des données qui se trouvent dans la boite\n",
    "print(f'Amplitude, ou écart interquartile : {Q3 - Q1}')"
   ]
  },
  {
   "cell_type": "code",
   "execution_count": 38,
   "id": "4939377f",
   "metadata": {},
   "outputs": [],
   "source": [
    "# 10; 25; 30; 40; 41; 42; 50; 55; 70; 101; 110; 111, 208"
   ]
  },
  {
   "cell_type": "code",
   "execution_count": 14,
   "id": "29578c6d",
   "metadata": {
    "pycharm": {
     "name": "#%%\n"
    }
   },
   "outputs": [
    {
     "name": "stdout",
     "output_type": "stream",
     "text": [
      "count     13.000000\n",
      "mean      68.692308\n",
      "std       52.945545\n",
      "min       10.000000\n",
      "25%       40.000000\n",
      "50%       50.000000\n",
      "75%      101.000000\n",
      "max      208.000000\n",
      "dtype: float64\n",
      "Q1 : 40.0\n",
      "Q2 : 50.0\n",
      "Q3 : 101.0\n",
      "Amplitude, ou écart interquartile : 61.0\n"
     ]
    }
   ],
   "source": [
    "data_02 = [10, 25, 30, 40, 41, 42, 50, 55, 70, 101, 110, 111, 208]\n",
    "data_serie_02 = pd.Series(data_02)\n",
    "\n",
    "describe = data_serie_02.describe()\n",
    "print(describe)\n",
    "\n",
    "Q1 = describe['25%']\n",
    "print(f'Q1 : {Q1}')\n",
    "\n",
    "Q2 = describe['50%']\n",
    "print(f'Q2 : {Q2}')\n",
    "\n",
    "Q3 = describe['75%']\n",
    "print(f'Q3 : {Q3}')\n",
    "\n",
    "# Amplitude des données qui se trouvent dans la boite\n",
    "print(f'Amplitude, ou écart interquartile : {Q3 - Q1}')"
   ]
  }
 ],
 "metadata": {
  "kernelspec": {
   "display_name": "Python 3 (ipykernel)",
   "language": "python",
   "name": "python3"
  },
  "language_info": {
   "codemirror_mode": {
    "name": "ipython",
    "version": 3
   },
   "file_extension": ".py",
   "mimetype": "text/x-python",
   "name": "python",
   "nbconvert_exporter": "python",
   "pygments_lexer": "ipython3",
   "version": "3.9.7"
  }
 },
 "nbformat": 4,
 "nbformat_minor": 5
}