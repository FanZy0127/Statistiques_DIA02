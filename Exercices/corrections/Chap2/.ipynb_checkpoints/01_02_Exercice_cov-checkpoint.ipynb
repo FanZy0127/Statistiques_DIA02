{
 "cells": [
  {
   "cell_type": "code",
   "execution_count": 1,
   "id": "4f982af2",
   "metadata": {},
   "outputs": [
    {
     "data": {
      "text/html": [
       "<div>\n",
       "<style scoped>\n",
       "    .dataframe tbody tr th:only-of-type {\n",
       "        vertical-align: middle;\n",
       "    }\n",
       "\n",
       "    .dataframe tbody tr th {\n",
       "        vertical-align: top;\n",
       "    }\n",
       "\n",
       "    .dataframe thead th {\n",
       "        text-align: right;\n",
       "    }\n",
       "</style>\n",
       "<table border=\"1\" class=\"dataframe\">\n",
       "  <thead>\n",
       "    <tr style=\"text-align: right;\">\n",
       "      <th></th>\n",
       "      <th>area</th>\n",
       "      <th>price</th>\n",
       "    </tr>\n",
       "  </thead>\n",
       "  <tbody>\n",
       "    <tr>\n",
       "      <th>0</th>\n",
       "      <td>19</td>\n",
       "      <td>280</td>\n",
       "    </tr>\n",
       "    <tr>\n",
       "      <th>1</th>\n",
       "      <td>30</td>\n",
       "      <td>485</td>\n",
       "    </tr>\n",
       "    <tr>\n",
       "      <th>2</th>\n",
       "      <td>39</td>\n",
       "      <td>615</td>\n",
       "    </tr>\n",
       "    <tr>\n",
       "      <th>3</th>\n",
       "      <td>52</td>\n",
       "      <td>670</td>\n",
       "    </tr>\n",
       "    <tr>\n",
       "      <th>4</th>\n",
       "      <td>65</td>\n",
       "      <td>865</td>\n",
       "    </tr>\n",
       "    <tr>\n",
       "      <th>5</th>\n",
       "      <td>79</td>\n",
       "      <td>1080</td>\n",
       "    </tr>\n",
       "    <tr>\n",
       "      <th>6</th>\n",
       "      <td>92</td>\n",
       "      <td>1260</td>\n",
       "    </tr>\n",
       "    <tr>\n",
       "      <th>7</th>\n",
       "      <td>108</td>\n",
       "      <td>1645</td>\n",
       "    </tr>\n",
       "  </tbody>\n",
       "</table>\n",
       "</div>"
      ],
      "text/plain": [
       "   area  price\n",
       "0    19    280\n",
       "1    30    485\n",
       "2    39    615\n",
       "3    52    670\n",
       "4    65    865\n",
       "5    79   1080\n",
       "6    92   1260\n",
       "7   108   1645"
      ]
     },
     "execution_count": 1,
     "metadata": {},
     "output_type": "execute_result"
    }
   ],
   "source": [
    "import numpy as np\n",
    "import pandas as pd\n",
    "\n",
    "area = [19,30,39,52,65,79,92,108]\n",
    "## price = [280 ,485  ,615  ,670  ,865  ,1080 ,1260 ,1645 ][::-1]\n",
    "price = [280 ,485  ,615  ,670  ,865  ,1080 ,1260 ,1645 ]\n",
    "\n",
    "df = pd.DataFrame({'area' : area, 'price' : price})\n",
    "df"
   ]
  },
  {
   "cell_type": "code",
   "execution_count": 2,
   "id": "79a722f8",
   "metadata": {},
   "outputs": [],
   "source": [
    "'''\n",
    "version détaillée :\n",
    "\n",
    "def cov(x,y):\n",
    "    # On cherche la moyenne\n",
    "    mean_x = sum(x) / float(len(x))\n",
    "    mean_y = sum(y) / float(len(y))\n",
    "\n",
    "    sub_x = [i - mean_x for i in x]\n",
    "    sub_y = [i - mean_y for i in y]\n",
    "\n",
    "    sum_value = sum([sub_y[i]*sub_x[i] for i in range(len(x))])\n",
    "    denom = float(len(x)-1)\n",
    "\n",
    "    cov = sum_value/denom\n",
    "    return cov\n",
    "'''\n",
    "\n",
    "def cov(x, y):\n",
    "    return np.round(np.sum((x - x.mean()) * (y - y.mean()) / (x.count() - 1)), 6)"
   ]
  },
  {
   "cell_type": "code",
   "execution_count": 3,
   "id": "8a695943",
   "metadata": {},
   "outputs": [
    {
     "data": {
      "text/plain": [
       "13767.142857"
      ]
     },
     "execution_count": 3,
     "metadata": {},
     "output_type": "execute_result"
    }
   ],
   "source": [
    "cov(df.area, df.price)"
   ]
  },
  {
   "cell_type": "code",
   "execution_count": 4,
   "id": "f0ce5530",
   "metadata": {
    "pycharm": {
     "name": "#%%\n"
    }
   },
   "outputs": [
    {
     "data": {
      "text/html": [
       "<div>\n",
       "<style scoped>\n",
       "    .dataframe tbody tr th:only-of-type {\n",
       "        vertical-align: middle;\n",
       "    }\n",
       "\n",
       "    .dataframe tbody tr th {\n",
       "        vertical-align: top;\n",
       "    }\n",
       "\n",
       "    .dataframe thead th {\n",
       "        text-align: right;\n",
       "    }\n",
       "</style>\n",
       "<table border=\"1\" class=\"dataframe\">\n",
       "  <thead>\n",
       "    <tr style=\"text-align: right;\">\n",
       "      <th></th>\n",
       "      <th>area</th>\n",
       "      <th>price</th>\n",
       "    </tr>\n",
       "  </thead>\n",
       "  <tbody>\n",
       "    <tr>\n",
       "      <th>area</th>\n",
       "      <td>971.142857</td>\n",
       "      <td>13767.142857</td>\n",
       "    </tr>\n",
       "    <tr>\n",
       "      <th>price</th>\n",
       "      <td>13767.142857</td>\n",
       "      <td>199678.571429</td>\n",
       "    </tr>\n",
       "  </tbody>\n",
       "</table>\n",
       "</div>"
      ],
      "text/plain": [
       "               area          price\n",
       "area     971.142857   13767.142857\n",
       "price  13767.142857  199678.571429"
      ]
     },
     "execution_count": 4,
     "metadata": {},
     "output_type": "execute_result"
    }
   ],
   "source": [
    "df.cov()"
   ]
  },
  {
   "cell_type": "code",
   "execution_count": 5,
   "id": "5ec1fbb1",
   "metadata": {},
   "outputs": [
    {
     "name": "stdout",
     "output_type": "stream",
     "text": [
      "[190000, 300000, 390000, 520000, 650000, 790000, 920000, 1080000]\n"
     ]
    }
   ],
   "source": [
    "# Changement d'unité\n",
    "area = [19,30,39,52,65,79,92,108]\n",
    "\n",
    "area_cm2 = [ x * 10**4 for x in area ]\n",
    "print(area_cm2)\n",
    "\n",
    "df2 = pd.DataFrame({'area' : area_cm2, 'price' : price})"
   ]
  },
  {
   "cell_type": "code",
   "execution_count": 6,
   "id": "6d4fe704",
   "metadata": {},
   "outputs": [
    {
     "data": {
      "text/plain": [
       "137671428.571429"
      ]
     },
     "execution_count": 6,
     "metadata": {},
     "output_type": "execute_result"
    }
   ],
   "source": [
    "cov(df2.area, df2.price)"
   ]
  },
  {
   "cell_type": "code",
   "execution_count": 7,
   "id": "7fbe8666",
   "metadata": {},
   "outputs": [],
   "source": [
    "def corr(x, y):\n",
    "    return cov(x, y) / ( np.std(x) * np.std(y) )"
   ]
  },
  {
   "cell_type": "code",
   "execution_count": 8,
   "id": "ba1e3839",
   "metadata": {},
   "outputs": [
    {
     "data": {
      "text/plain": [
       "1.1298699943947352"
      ]
     },
     "execution_count": 8,
     "metadata": {},
     "output_type": "execute_result"
    }
   ],
   "source": [
    "corr(df2.area, df2.price)"
   ]
  },
  {
   "cell_type": "code",
   "execution_count": 9,
   "id": "c7862e08",
   "metadata": {},
   "outputs": [
    {
     "data": {
      "text/plain": [
       "1.1298699943830073"
      ]
     },
     "execution_count": 9,
     "metadata": {},
     "output_type": "execute_result"
    }
   ],
   "source": [
    "corr(df.area, df.price)"
   ]
  },
  {
   "cell_type": "code",
   "execution_count": 10,
   "id": "3c646c73",
   "metadata": {
    "pycharm": {
     "name": "#%%\n"
    }
   },
   "outputs": [
    {
     "data": {
      "text/plain": [
       "array([[   849.75,  12046.25],\n",
       "       [ 12046.25, 174718.75]])"
      ]
     },
     "execution_count": 10,
     "metadata": {},
     "output_type": "execute_result"
    }
   ],
   "source": [
    "np.cov(df.area, df.price, ddof=0) # ddof sans degré de liberté\n",
    "# Matrice des covariances"
   ]
  },
  {
   "cell_type": "code",
   "execution_count": null,
   "id": "024e85c5",
   "metadata": {},
   "outputs": [],
   "source": []
  }
 ],
 "metadata": {
  "kernelspec": {
   "display_name": "Python 3 (ipykernel)",
   "language": "python",
   "name": "python3"
  },
  "language_info": {
   "codemirror_mode": {
    "name": "ipython",
    "version": 3
   },
   "file_extension": ".py",
   "mimetype": "text/x-python",
   "name": "python",
   "nbconvert_exporter": "python",
   "pygments_lexer": "ipython3",
   "version": "3.11.1"
  }
 },
 "nbformat": 4,
 "nbformat_minor": 5
}
